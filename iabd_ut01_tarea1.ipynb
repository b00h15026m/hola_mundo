{
  "nbformat": 4,
  "nbformat_minor": 0,
  "metadata": {
    "colab": {
      "provenance": []
    },
    "kernelspec": {
      "name": "python3",
      "display_name": "Python 3"
    },
    "language_info": {
      "name": "python"
    }
  },
  "cells": [
    {
      "cell_type": "markdown",
      "source": [
        "#Robin Granados Fariña"
      ],
      "metadata": {
        "id": "aPd7HEs7aLpg"
      }
    },
    {
      "cell_type": "markdown",
      "source": [
        "En esta celda lo que hacemos es crear una lista con los nombres de los tenistas"
      ],
      "metadata": {
        "id": "DmzUrNgMhC1R"
      }
    },
    {
      "cell_type": "code",
      "execution_count": 1,
      "metadata": {
        "colab": {
          "base_uri": "https://localhost:8080/"
        },
        "id": "J5hVl-bfaJd6",
        "outputId": "0d881b5a-c93c-4447-8bde-7e67fc2b7ff5"
      },
      "outputs": [
        {
          "output_type": "stream",
          "name": "stdout",
          "text": [
            "['Novak Djokovic', 'Rafael Nadal', 'Roger Federer', 'Pete Sampras', 'Roy Emerson']\n"
          ]
        }
      ],
      "source": [
        "tenistas = ['Novak Djokovic', 'Rafael Nadal', 'Roger Federer', 'Pete Sampras', 'Roy Emerson']\n",
        "\n",
        "print(tenistas)\n"
      ]
    },
    {
      "cell_type": "markdown",
      "source": [
        "Aqui lo que hacemos es poner las veces que han ganado los grand slams los tenistas\n",
        "\n"
      ],
      "metadata": {
        "id": "kz074QS9g9dx"
      }
    },
    {
      "cell_type": "code",
      "source": [
        "grand_slams = [24, 22, 20, 14, 12]\n",
        "print(grand_slams)\n",
        "\n"
      ],
      "metadata": {
        "colab": {
          "base_uri": "https://localhost:8080/"
        },
        "id": "_-JWc66ual6o",
        "outputId": "a91c95ae-a1ca-4842-a549-b2774c9fa4d7"
      },
      "execution_count": 2,
      "outputs": [
        {
          "output_type": "stream",
          "name": "stdout",
          "text": [
            "[24, 22, 20, 14, 12]\n"
          ]
        }
      ]
    },
    {
      "cell_type": "markdown",
      "source": [
        "Aqui creamos un diccionario en el que la clave son los tenistas ylos valores son las veces que han ganado el grand slams"
      ],
      "metadata": {
        "id": "tpBdjI0hhAk_"
      }
    },
    {
      "cell_type": "code",
      "source": [
        "dict = {'Novak Djokovic': 24, 'Rafael Nadal': 22, 'Roger Federer': 20, 'Pete Sampras': 14, 'Roy Emerson': 12 }\n",
        "\n",
        "\n",
        "print(dict)"
      ],
      "metadata": {
        "colab": {
          "base_uri": "https://localhost:8080/"
        },
        "id": "ApILlAgxa3Ni",
        "outputId": "42750790-e677-4034-891b-bf9262b53af1"
      },
      "execution_count": 3,
      "outputs": [
        {
          "output_type": "stream",
          "name": "stdout",
          "text": [
            "{'Novak Djokovic': 24, 'Rafael Nadal': 22, 'Roger Federer': 20, 'Pete Sampras': 14, 'Roy Emerson': 12}\n"
          ]
        }
      ]
    },
    {
      "cell_type": "markdown",
      "source": [
        "En este aparta lo que hemos hecho es mostrar por pantalla las claves y los valroes del dict por separado haciendo uso de .items()"
      ],
      "metadata": {
        "id": "TCkasauIfURu"
      }
    },
    {
      "cell_type": "code",
      "source": [
        "for n,p in dict.items():\n",
        "  print(f\"{n}: {p} Grand Slams ganados\")\n",
        "\n",
        "\n",
        "a = [f\"{n} {p} Grand Slams ganados\" for n, p in dict.items()]\n",
        "print(a)"
      ],
      "metadata": {
        "colab": {
          "base_uri": "https://localhost:8080/"
        },
        "id": "vumkDALbcQHH",
        "outputId": "06bfbdac-a87d-43dc-fa68-8f70bf469311"
      },
      "execution_count": 18,
      "outputs": [
        {
          "output_type": "stream",
          "name": "stdout",
          "text": [
            "['Novak Djokovic 24 Grand Slams ganados', 'Rafael Nadal 22 Grand Slams ganados', 'Roger Federer 20 Grand Slams ganados', 'Pete Sampras 14 Grand Slams ganados', 'Roy Emerson 12 Grand Slams ganados']\n"
          ]
        }
      ]
    },
    {
      "cell_type": "code",
      "source": [],
      "metadata": {
        "id": "ts5wdLNUc6T8"
      },
      "execution_count": null,
      "outputs": []
    }
  ]
}