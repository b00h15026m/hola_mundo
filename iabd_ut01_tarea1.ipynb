{
  "nbformat": 4,
  "nbformat_minor": 0,
  "metadata": {
    "colab": {
      "provenance": []
    },
    "kernelspec": {
      "name": "python3",
      "display_name": "Python 3"
    },
    "language_info": {
      "name": "python"
    }
  },
  "cells": [
    {
      "cell_type": "markdown",
      "source": [
        "#Robin Granados Fariña"
      ],
      "metadata": {
        "id": "aPd7HEs7aLpg"
      }
    },
    {
      "cell_type": "markdown",
      "source": [
        "En esta celda lo que hacemos es crear una lista con los nombres de los tenistas"
      ],
      "metadata": {
        "id": "DmzUrNgMhC1R"
      }
    },
    {
      "cell_type": "code",
      "execution_count": 1,
      "metadata": {
        "colab": {
          "base_uri": "https://localhost:8080/"
        },
        "id": "J5hVl-bfaJd6",
        "outputId": "0d881b5a-c93c-4447-8bde-7e67fc2b7ff5"
      },
      "outputs": [
        {
          "output_type": "stream",
          "name": "stdout",
          "text": [
            "['Novak Djokovic', 'Rafael Nadal', 'Roger Federer', 'Pete Sampras', 'Roy Emerson']\n"
          ]
        }
      ],
      "source": [
        "tenistas = ['Novak Djokovic', 'Rafael Nadal', 'Roger Federer', 'Pete Sampras', 'Roy Emerson']\n",
        "\n",
        "print(tenistas)\n"
      ]
    },
    {
      "cell_type": "markdown",
      "source": [
        "Aqui lo que hacemos es poner las veces que han ganado los grand slams los tenistas\n",
        "\n"
      ],
      "metadata": {
        "id": "kz074QS9g9dx"
      }
    },
    {
      "cell_type": "code",
      "source": [
        "grand_slams = [24, 22, 20, 14, 12]\n",
        "print(grand_slams)\n",
        "\n"
      ],
      "metadata": {
        "colab": {
          "base_uri": "https://localhost:8080/"
        },
        "id": "_-JWc66ual6o",
        "outputId": "28f3ca7d-dc79-4152-b8ad-c02dd8f0d8c4"
      },
      "execution_count": 50,
      "outputs": [
        {
          "output_type": "stream",
          "name": "stdout",
          "text": [
            "[24, 22, 20, 14, 12]\n"
          ]
        }
      ]
    },
    {
      "cell_type": "markdown",
      "source": [
        "Aqui creamos un diccionario en el que la clave son los tenistas y los valores son las veces que han ganado el grand slams"
      ],
      "metadata": {
        "id": "tpBdjI0hhAk_"
      }
    },
    {
      "cell_type": "code",
      "source": [
        "dic = {}\n",
        "i = 0\n",
        "for t in tenistas:\n",
        "  dic[t] = grand_slams[i]\n",
        "  i += 0\n",
        "\n",
        "print(dic)"
      ],
      "metadata": {
        "colab": {
          "base_uri": "https://localhost:8080/"
        },
        "id": "ApILlAgxa3Ni",
        "outputId": "ecd833e0-2854-4bf4-83fb-4804c6704f9c"
      },
      "execution_count": 47,
      "outputs": [
        {
          "output_type": "stream",
          "name": "stdout",
          "text": [
            "{'Novak Djokovic': 24, 'Rafael Nadal': 24, 'Roger Federer': 24, 'Pete Sampras': 24, 'Roy Emerson': 24}\n"
          ]
        }
      ]
    },
    {
      "cell_type": "markdown",
      "source": [
        "En este aparta lo que hemos hecho es mostrar por pantalla las claves y los valroes del dict por separado haciendo uso de .items()"
      ],
      "metadata": {
        "id": "TCkasauIfURu"
      }
    },
    {
      "cell_type": "code",
      "source": [
        "for n,p in dic.items():\n",
        "  print(f\"{n}: {p} Grand Slams ganados.\")\n",
        "\n",
        "\n",
        "a = [f\"{n} {p} Grand Slams ganados\" for n, p in dic.items()]\n",
        "print(a)"
      ],
      "metadata": {
        "colab": {
          "base_uri": "https://localhost:8080/"
        },
        "id": "vumkDALbcQHH",
        "outputId": "d60ef8ee-df8c-4987-f885-c60bebe08ae2"
      },
      "execution_count": 49,
      "outputs": [
        {
          "output_type": "stream",
          "name": "stdout",
          "text": [
            "Novak Djokovic: 24 Grand Slams ganados.\n",
            "Rafael Nadal: 24 Grand Slams ganados.\n",
            "Roger Federer: 24 Grand Slams ganados.\n",
            "Pete Sampras: 24 Grand Slams ganados.\n",
            "Roy Emerson: 24 Grand Slams ganados.\n",
            "['Novak Djokovic 24 Grand Slams ganados', 'Rafael Nadal 24 Grand Slams ganados', 'Roger Federer 24 Grand Slams ganados', 'Pete Sampras 24 Grand Slams ganados', 'Roy Emerson 24 Grand Slams ganados']\n"
          ]
        }
      ]
    },
    {
      "cell_type": "code",
      "source": [],
      "metadata": {
        "id": "6J75ZFtUpBrD"
      },
      "execution_count": null,
      "outputs": []
    }
  ]
}